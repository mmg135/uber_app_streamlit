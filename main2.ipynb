{
 "cells": [
  {
   "cell_type": "code",
   "execution_count": 1,
   "id": "59576d14",
   "metadata": {},
   "outputs": [],
   "source": [
    "import pandas as pd"
   ]
  },
  {
   "cell_type": "code",
   "execution_count": null,
   "id": "575bb63e",
   "metadata": {},
   "outputs": [],
   "source": [
    "#EJERCICIO DE EJEMPLO DE LAS DIAPOSITIVAS\n",
    "#AQUÍ (MAIN2.IPYNB)  ESTÁN ALGUNAS PRUEBAS HECHAS SOBRE EL DF\n",
    "#EN (UBER_APP2) ESTÁ EL CÓDIGO PARA VERLO DESDE STRAMLIT"
   ]
  },
  {
   "cell_type": "code",
   "execution_count": 2,
   "id": "c0aa32d2",
   "metadata": {},
   "outputs": [],
   "source": [
    "df = pd.read_csv(\"https://s3-us-west-2.amazonaws.com/streamlit-demo-data/uber-raw-data-sep14.csv.gz\")"
   ]
  },
  {
   "cell_type": "code",
   "execution_count": 3,
   "id": "b238918d",
   "metadata": {},
   "outputs": [
    {
     "data": {
      "text/html": [
       "<div>\n",
       "<style scoped>\n",
       "    .dataframe tbody tr th:only-of-type {\n",
       "        vertical-align: middle;\n",
       "    }\n",
       "\n",
       "    .dataframe tbody tr th {\n",
       "        vertical-align: top;\n",
       "    }\n",
       "\n",
       "    .dataframe thead th {\n",
       "        text-align: right;\n",
       "    }\n",
       "</style>\n",
       "<table border=\"1\" class=\"dataframe\">\n",
       "  <thead>\n",
       "    <tr style=\"text-align: right;\">\n",
       "      <th></th>\n",
       "      <th>Date/Time</th>\n",
       "      <th>Lat</th>\n",
       "      <th>Lon</th>\n",
       "      <th>Base</th>\n",
       "    </tr>\n",
       "  </thead>\n",
       "  <tbody>\n",
       "    <tr>\n",
       "      <th>0</th>\n",
       "      <td>9/1/2014 0:01:00</td>\n",
       "      <td>40.2201</td>\n",
       "      <td>-74.0021</td>\n",
       "      <td>B02512</td>\n",
       "    </tr>\n",
       "    <tr>\n",
       "      <th>1</th>\n",
       "      <td>9/1/2014 0:01:00</td>\n",
       "      <td>40.7500</td>\n",
       "      <td>-74.0027</td>\n",
       "      <td>B02512</td>\n",
       "    </tr>\n",
       "    <tr>\n",
       "      <th>2</th>\n",
       "      <td>9/1/2014 0:03:00</td>\n",
       "      <td>40.7559</td>\n",
       "      <td>-73.9864</td>\n",
       "      <td>B02512</td>\n",
       "    </tr>\n",
       "    <tr>\n",
       "      <th>3</th>\n",
       "      <td>9/1/2014 0:06:00</td>\n",
       "      <td>40.7450</td>\n",
       "      <td>-73.9889</td>\n",
       "      <td>B02512</td>\n",
       "    </tr>\n",
       "    <tr>\n",
       "      <th>4</th>\n",
       "      <td>9/1/2014 0:11:00</td>\n",
       "      <td>40.8145</td>\n",
       "      <td>-73.9444</td>\n",
       "      <td>B02512</td>\n",
       "    </tr>\n",
       "  </tbody>\n",
       "</table>\n",
       "</div>"
      ],
      "text/plain": [
       "          Date/Time      Lat      Lon    Base\n",
       "0  9/1/2014 0:01:00  40.2201 -74.0021  B02512\n",
       "1  9/1/2014 0:01:00  40.7500 -74.0027  B02512\n",
       "2  9/1/2014 0:03:00  40.7559 -73.9864  B02512\n",
       "3  9/1/2014 0:06:00  40.7450 -73.9889  B02512\n",
       "4  9/1/2014 0:11:00  40.8145 -73.9444  B02512"
      ]
     },
     "execution_count": 3,
     "metadata": {},
     "output_type": "execute_result"
    }
   ],
   "source": [
    "df.head()"
   ]
  },
  {
   "cell_type": "code",
   "execution_count": 4,
   "id": "81c207a7",
   "metadata": {},
   "outputs": [
    {
     "data": {
      "text/plain": [
       "(1028136, 4)"
      ]
     },
     "execution_count": 4,
     "metadata": {},
     "output_type": "execute_result"
    }
   ],
   "source": [
    "df.shape"
   ]
  },
  {
   "cell_type": "code",
   "execution_count": 6,
   "id": "6db4e792",
   "metadata": {},
   "outputs": [],
   "source": [
    "nrows=1028136\n",
    "\n",
    "df = (\n",
    "    pd.read_csv(\"https://s3-us-west-2.amazonaws.com/streamlit-demo-data/uber-raw-data-sep14.csv.gz\", nrows=nrows)\n",
    "    .rename(columns= lambda x: x.lower())\n",
    "    .assign(\n",
    "        datetime = lambda df: pd.to_datetime(df[\"date/time\"]),\n",
    "        date = lambda df: df[\"datetime\"].dt.date,\n",
    "        weekday = lambda df: df[\"datetime\"].dt.day_name(),\n",
    "        hour = lambda df: df[\"datetime\"].dt.hour, \n",
    "    )\n",
    ")"
   ]
  },
  {
   "cell_type": "code",
   "execution_count": 7,
   "id": "7c72d361",
   "metadata": {},
   "outputs": [
    {
     "data": {
      "text/html": [
       "<div>\n",
       "<style scoped>\n",
       "    .dataframe tbody tr th:only-of-type {\n",
       "        vertical-align: middle;\n",
       "    }\n",
       "\n",
       "    .dataframe tbody tr th {\n",
       "        vertical-align: top;\n",
       "    }\n",
       "\n",
       "    .dataframe thead th {\n",
       "        text-align: right;\n",
       "    }\n",
       "</style>\n",
       "<table border=\"1\" class=\"dataframe\">\n",
       "  <thead>\n",
       "    <tr style=\"text-align: right;\">\n",
       "      <th></th>\n",
       "      <th>date/time</th>\n",
       "      <th>lat</th>\n",
       "      <th>lon</th>\n",
       "      <th>base</th>\n",
       "      <th>datetime</th>\n",
       "      <th>date</th>\n",
       "      <th>weekday</th>\n",
       "      <th>hour</th>\n",
       "    </tr>\n",
       "  </thead>\n",
       "  <tbody>\n",
       "    <tr>\n",
       "      <th>177</th>\n",
       "      <td>9/1/2014 12:01:00</td>\n",
       "      <td>40.7088</td>\n",
       "      <td>-73.9210</td>\n",
       "      <td>B02512</td>\n",
       "      <td>2014-09-01 12:01:00</td>\n",
       "      <td>2014-09-01</td>\n",
       "      <td>Monday</td>\n",
       "      <td>12</td>\n",
       "    </tr>\n",
       "    <tr>\n",
       "      <th>178</th>\n",
       "      <td>9/1/2014 12:01:00</td>\n",
       "      <td>40.7179</td>\n",
       "      <td>-74.0146</td>\n",
       "      <td>B02512</td>\n",
       "      <td>2014-09-01 12:01:00</td>\n",
       "      <td>2014-09-01</td>\n",
       "      <td>Monday</td>\n",
       "      <td>12</td>\n",
       "    </tr>\n",
       "    <tr>\n",
       "      <th>179</th>\n",
       "      <td>9/1/2014 12:05:00</td>\n",
       "      <td>40.7701</td>\n",
       "      <td>-73.9832</td>\n",
       "      <td>B02512</td>\n",
       "      <td>2014-09-01 12:05:00</td>\n",
       "      <td>2014-09-01</td>\n",
       "      <td>Monday</td>\n",
       "      <td>12</td>\n",
       "    </tr>\n",
       "    <tr>\n",
       "      <th>180</th>\n",
       "      <td>9/1/2014 12:07:00</td>\n",
       "      <td>40.7683</td>\n",
       "      <td>-73.9848</td>\n",
       "      <td>B02512</td>\n",
       "      <td>2014-09-01 12:07:00</td>\n",
       "      <td>2014-09-01</td>\n",
       "      <td>Monday</td>\n",
       "      <td>12</td>\n",
       "    </tr>\n",
       "    <tr>\n",
       "      <th>181</th>\n",
       "      <td>9/1/2014 12:08:00</td>\n",
       "      <td>40.7496</td>\n",
       "      <td>-73.9834</td>\n",
       "      <td>B02512</td>\n",
       "      <td>2014-09-01 12:08:00</td>\n",
       "      <td>2014-09-01</td>\n",
       "      <td>Monday</td>\n",
       "      <td>12</td>\n",
       "    </tr>\n",
       "    <tr>\n",
       "      <th>...</th>\n",
       "      <td>...</td>\n",
       "      <td>...</td>\n",
       "      <td>...</td>\n",
       "      <td>...</td>\n",
       "      <td>...</td>\n",
       "      <td>...</td>\n",
       "      <td>...</td>\n",
       "      <td>...</td>\n",
       "    </tr>\n",
       "    <tr>\n",
       "      <th>1016642</th>\n",
       "      <td>9/29/2014 12:58:00</td>\n",
       "      <td>40.7614</td>\n",
       "      <td>-73.9754</td>\n",
       "      <td>B02764</td>\n",
       "      <td>2014-09-29 12:58:00</td>\n",
       "      <td>2014-09-29</td>\n",
       "      <td>Monday</td>\n",
       "      <td>12</td>\n",
       "    </tr>\n",
       "    <tr>\n",
       "      <th>1016643</th>\n",
       "      <td>9/29/2014 12:58:00</td>\n",
       "      <td>40.7185</td>\n",
       "      <td>-73.9864</td>\n",
       "      <td>B02764</td>\n",
       "      <td>2014-09-29 12:58:00</td>\n",
       "      <td>2014-09-29</td>\n",
       "      <td>Monday</td>\n",
       "      <td>12</td>\n",
       "    </tr>\n",
       "    <tr>\n",
       "      <th>1016644</th>\n",
       "      <td>9/29/2014 12:58:00</td>\n",
       "      <td>40.7116</td>\n",
       "      <td>-73.9572</td>\n",
       "      <td>B02764</td>\n",
       "      <td>2014-09-29 12:58:00</td>\n",
       "      <td>2014-09-29</td>\n",
       "      <td>Monday</td>\n",
       "      <td>12</td>\n",
       "    </tr>\n",
       "    <tr>\n",
       "      <th>1016645</th>\n",
       "      <td>9/29/2014 12:58:00</td>\n",
       "      <td>40.7277</td>\n",
       "      <td>-74.0016</td>\n",
       "      <td>B02764</td>\n",
       "      <td>2014-09-29 12:58:00</td>\n",
       "      <td>2014-09-29</td>\n",
       "      <td>Monday</td>\n",
       "      <td>12</td>\n",
       "    </tr>\n",
       "    <tr>\n",
       "      <th>1016646</th>\n",
       "      <td>9/29/2014 12:59:00</td>\n",
       "      <td>40.7482</td>\n",
       "      <td>-73.9881</td>\n",
       "      <td>B02764</td>\n",
       "      <td>2014-09-29 12:59:00</td>\n",
       "      <td>2014-09-29</td>\n",
       "      <td>Monday</td>\n",
       "      <td>12</td>\n",
       "    </tr>\n",
       "  </tbody>\n",
       "</table>\n",
       "<p>5415 rows × 8 columns</p>\n",
       "</div>"
      ],
      "text/plain": [
       "                  date/time      lat      lon    base            datetime  \\\n",
       "177       9/1/2014 12:01:00  40.7088 -73.9210  B02512 2014-09-01 12:01:00   \n",
       "178       9/1/2014 12:01:00  40.7179 -74.0146  B02512 2014-09-01 12:01:00   \n",
       "179       9/1/2014 12:05:00  40.7701 -73.9832  B02512 2014-09-01 12:05:00   \n",
       "180       9/1/2014 12:07:00  40.7683 -73.9848  B02512 2014-09-01 12:07:00   \n",
       "181       9/1/2014 12:08:00  40.7496 -73.9834  B02512 2014-09-01 12:08:00   \n",
       "...                     ...      ...      ...     ...                 ...   \n",
       "1016642  9/29/2014 12:58:00  40.7614 -73.9754  B02764 2014-09-29 12:58:00   \n",
       "1016643  9/29/2014 12:58:00  40.7185 -73.9864  B02764 2014-09-29 12:58:00   \n",
       "1016644  9/29/2014 12:58:00  40.7116 -73.9572  B02764 2014-09-29 12:58:00   \n",
       "1016645  9/29/2014 12:58:00  40.7277 -74.0016  B02764 2014-09-29 12:58:00   \n",
       "1016646  9/29/2014 12:59:00  40.7482 -73.9881  B02764 2014-09-29 12:59:00   \n",
       "\n",
       "               date weekday  hour  \n",
       "177      2014-09-01  Monday    12  \n",
       "178      2014-09-01  Monday    12  \n",
       "179      2014-09-01  Monday    12  \n",
       "180      2014-09-01  Monday    12  \n",
       "181      2014-09-01  Monday    12  \n",
       "...             ...     ...   ...  \n",
       "1016642  2014-09-29  Monday    12  \n",
       "1016643  2014-09-29  Monday    12  \n",
       "1016644  2014-09-29  Monday    12  \n",
       "1016645  2014-09-29  Monday    12  \n",
       "1016646  2014-09-29  Monday    12  \n",
       "\n",
       "[5415 rows x 8 columns]"
      ]
     },
     "execution_count": 7,
     "metadata": {},
     "output_type": "execute_result"
    }
   ],
   "source": [
    "weekday_selected = \"Monday\"  \n",
    "hour_selected = 12\n",
    "\n",
    "(\n",
    "    df\n",
    "    .loc[lambda df: df[\"weekday\"]== weekday_selected]\n",
    "    .loc[lambda df: df[\"hour\"]== hour_selected]\n",
    ")"
   ]
  },
  {
   "cell_type": "code",
   "execution_count": null,
   "id": "7097641f",
   "metadata": {},
   "outputs": [
    {
     "data": {
      "text/plain": [
       "27457.6"
      ]
     },
     "execution_count": 10,
     "metadata": {},
     "output_type": "execute_result"
    }
   ],
   "source": [
    "#Mean_pickups_by_weekday\n",
    "(\n",
    "        df\n",
    "        .loc[lambda df: df[\"weekday\"] == weekday_selected]\n",
    "        .groupby(\"date\")\n",
    "        .size()\n",
    "        .mean()   \n",
    ")"
   ]
  },
  {
   "cell_type": "code",
   "execution_count": 11,
   "id": "c612793d",
   "metadata": {},
   "outputs": [
    {
     "data": {
      "text/plain": [
       "34271.2"
      ]
     },
     "execution_count": 11,
     "metadata": {},
     "output_type": "execute_result"
    }
   ],
   "source": [
    "#Global_mean_pickups\n",
    "(\n",
    "    df\n",
    "    .groupby([\"date\"])\n",
    "    .size()\n",
    "    .mean()\n",
    ")"
   ]
  },
  {
   "cell_type": "code",
   "execution_count": null,
   "id": "76c8ed42",
   "metadata": {},
   "outputs": [],
   "source": [
    "(\n",
    "    df\n",
    "    .loc[lambda df: df[\"weekday\"]== weekday_selected]\n",
    ")"
   ]
  }
 ],
 "metadata": {
  "kernelspec": {
   "display_name": "Cidaen",
   "language": "python",
   "name": "python3"
  },
  "language_info": {
   "codemirror_mode": {
    "name": "ipython",
    "version": 3
   },
   "file_extension": ".py",
   "mimetype": "text/x-python",
   "name": "python",
   "nbconvert_exporter": "python",
   "pygments_lexer": "ipython3",
   "version": "3.12.3"
  }
 },
 "nbformat": 4,
 "nbformat_minor": 5
}
